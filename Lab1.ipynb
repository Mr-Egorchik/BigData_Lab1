{
 "cells": [
  {
   "cell_type": "code",
   "execution_count": 1,
   "id": "60a9b160-6e3f-4f69-af5a-18f6ea32db0d",
   "metadata": {},
   "outputs": [],
   "source": [
    "from pyspark import SparkContext, SparkConf \n",
    "from pyspark.sql import SparkSession\n",
    "import pyspark.sql as sql\n",
    "from typing import NamedTuple\n",
    "from datetime import datetime"
   ]
  },
  {
   "cell_type": "code",
   "execution_count": 2,
   "id": "d90f7b6c-dc6f-4a01-9921-70676a0a23ef",
   "metadata": {},
   "outputs": [],
   "source": [
    "conf = SparkConf().setAppName(\"Lab1\").setMaster('yarn')"
   ]
  },
  {
   "cell_type": "code",
   "execution_count": 3,
   "id": "ca9cb7bf-09ee-43fd-93e7-6cdd3a2d088c",
   "metadata": {},
   "outputs": [],
   "source": [
    "sc = SparkContext(conf=conf)\n",
    "spark = SparkSession(sc)"
   ]
  },
  {
   "cell_type": "code",
   "execution_count": 4,
   "id": "22a312c0-6462-4af3-85d8-f951b72c93a0",
   "metadata": {},
   "outputs": [],
   "source": [
    "tripData = sc.textFile(\"trips.csv\")\n",
    "# запомним заголовок, чтобы затем его исключить из данных\n",
    "tripsHeader = tripData.first()\n",
    "trips = tripData.filter(lambda row: row != tripsHeader).map(lambda row: row.split(\",\", -1))\n",
    "\n",
    "stationData = sc.textFile(\"stations.csv\")\n",
    "stationsHeader = stationData.first()\n",
    "stations = stationData.filter(lambda row: row != stationsHeader).map(lambda row: row.split(\",\", -1))"
   ]
  },
  {
   "cell_type": "code",
   "execution_count": 5,
   "id": "7a678bd1-ca9d-4117-85b2-a64aa2c9fad5",
   "metadata": {},
   "outputs": [],
   "source": [
    "def initStation(stations):\n",
    "    class Station(NamedTuple):\n",
    "        station_id: int\n",
    "        name: str\n",
    "        lat: float\n",
    "        long: float\n",
    "        dockcount: int\n",
    "        landmark: str\n",
    "        installation: str\n",
    "    \n",
    "    for station in stations:\n",
    "        yield Station(\n",
    "            station_id = int(station[0]),\n",
    "            name = station[1],\n",
    "            lat = float(station[2]),\n",
    "            long = float(station[3]),\n",
    "            dockcount = int(station[4]),\n",
    "            landmark = station[5],\n",
    "            installation = datetime.strptime(station[6], '%m/%d/%Y')\n",
    "        )"
   ]
  },
  {
   "cell_type": "code",
   "execution_count": 6,
   "id": "751573fa-1068-4b7e-85e6-181c7c5b1c60",
   "metadata": {},
   "outputs": [],
   "source": [
    "def initTrip(trips):\n",
    "    class Trip(NamedTuple):\n",
    "        trip_id: int\n",
    "        duration: int\n",
    "        start_date: datetime\n",
    "        start_station_name: str\n",
    "        start_station_id: int\n",
    "        end_date: datetime\n",
    "        end_station_name: str\n",
    "        end_station_id: int\n",
    "        bike_id: int\n",
    "        subscription_type: str\n",
    "        zip_code: str\n",
    "        \n",
    "    for trip in trips:\n",
    "        try:\n",
    "            yield Trip(                             \n",
    "             trip_id = int(trip[0]),\n",
    "             duration = int(trip[1]),\n",
    "             start_date = datetime.strptime(trip[2], '%m/%d/%Y %H:%M'),\n",
    "             start_station_name = trip[3],\n",
    "             start_station_id = int(trip[4]),\n",
    "             end_date = datetime.strptime(trip[5], '%m/%d/%Y %H:%M'),\n",
    "             end_station_name = trip[6],\n",
    "             end_station_id = trip[7],\n",
    "             bike_id = int(trip[8]),\n",
    "             subscription_type = trip[9],\n",
    "             zip_code = trip[10]\n",
    "            ) \n",
    "        except:\n",
    "            pass"
   ]
  },
  {
   "cell_type": "code",
   "execution_count": 7,
   "id": "20901b73-79d5-46a0-b76f-56c312a3ed61",
   "metadata": {},
   "outputs": [],
   "source": [
    "stationsInternal = stations.mapPartitions(initStation)\n",
    "tripsInternal = trips.mapPartitions(initTrip)"
   ]
  },
  {
   "cell_type": "code",
   "execution_count": 8,
   "id": "b9fdd804-2e38-46c5-9154-46f308753871",
   "metadata": {},
   "outputs": [
    {
     "data": {
      "text/plain": [
       "Station(station_id=2, name='San Jose Diridon Caltrain Station', lat=37.329732, long=-121.90178200000001, dockcount=27, landmark='San Jose', installation=datetime.datetime(2013, 8, 6, 0, 0))"
      ]
     },
     "execution_count": 8,
     "metadata": {},
     "output_type": "execute_result"
    }
   ],
   "source": [
    "stationsInternal.first()"
   ]
  },
  {
   "cell_type": "code",
   "execution_count": 9,
   "id": "f625bb7a-348d-44cb-a4f1-4c1dcc5de0d8",
   "metadata": {},
   "outputs": [
    {
     "data": {
      "text/plain": [
       "Trip(trip_id=4130, duration=71, start_date=datetime.datetime(2013, 8, 29, 10, 16), start_station_name='Mountain View City Hall', start_station_id=27, end_date=datetime.datetime(2013, 8, 29, 10, 17), end_station_name='Mountain View City Hall', end_station_id='27', bike_id=48, subscription_type='Subscriber', zip_code='97214')"
      ]
     },
     "execution_count": 9,
     "metadata": {},
     "output_type": "execute_result"
    }
   ],
   "source": [
    "tripsInternal.first()"
   ]
  },
  {
   "cell_type": "markdown",
   "id": "9f600660-5ecc-4575-bf50-c6dd28a9b1b8",
   "metadata": {},
   "source": [
    "1. Найти велосипед с максимальным временем пробега"
   ]
  },
  {
   "cell_type": "code",
   "execution_count": 10,
   "id": "4004f10d-f47a-4cfc-83f6-fd53eec89d46",
   "metadata": {},
   "outputs": [],
   "source": [
    "run_bicycles = tripsInternal.map(lambda trip: (trip.bike_id, trip.duration)).reduceByKey(lambda a, b: a + b)"
   ]
  },
  {
   "cell_type": "code",
   "execution_count": 11,
   "id": "b0737465-00d7-4083-80a2-04d9712e9ac3",
   "metadata": {},
   "outputs": [],
   "source": [
    "top_bicycle = run_bicycles.top(1, key=lambda x: x[1])[0]"
   ]
  },
  {
   "cell_type": "code",
   "execution_count": 12,
   "id": "a87f8ec1-1dee-4645-8c18-8e1911c02c56",
   "metadata": {},
   "outputs": [
    {
     "name": "stdout",
     "output_type": "stream",
     "text": [
      "bike_id:\t535\n",
      "duration:\t18611693\n"
     ]
    }
   ],
   "source": [
    "print(f'bike_id:\\t{top_bicycle[0]}\\nduration:\\t{top_bicycle[1]}')"
   ]
  },
  {
   "cell_type": "markdown",
   "id": "c08c371f-0e56-4dfd-8474-65594c7cec50",
   "metadata": {},
   "source": [
    "2. Найти наибольшее геодезическое расстояние между станциями"
   ]
  },
  {
   "cell_type": "code",
   "execution_count": 13,
   "id": "34c31626-5cfb-4487-8a5a-a480fd04c30e",
   "metadata": {},
   "outputs": [],
   "source": [
    "def dist(x, y):\n",
    "    return ((x.lat - y.lat)**2 + (x.long - y.long)**2)**0.5"
   ]
  },
  {
   "cell_type": "code",
   "execution_count": 14,
   "id": "b7c0aa1f-00e0-4224-ba44-1d57e5266030",
   "metadata": {},
   "outputs": [],
   "source": [
    "all_distances = stationsInternal.cartesian(stationsInternal).map(lambda pair: (pair[0].station_id, pair[1].station_id, dist(pair[0], pair[1])))"
   ]
  },
  {
   "cell_type": "code",
   "execution_count": 15,
   "id": "3be26ffd-da6a-42f9-b153-fea0c0de0f5c",
   "metadata": {},
   "outputs": [],
   "source": [
    "max_dist = all_distances.top(1, key=lambda x: x[2])[0]"
   ]
  },
  {
   "cell_type": "code",
   "execution_count": 16,
   "id": "9cb8e35f-dece-4aa7-84de-8288e7ab45ee",
   "metadata": {},
   "outputs": [
    {
     "name": "stdout",
     "output_type": "stream",
     "text": [
      "Max distance:\t0.7058482821754397\n",
      "Stations:\t16-60\n"
     ]
    }
   ],
   "source": [
    "print(f'Max distance:\\t{max_dist[2]}\\nStations:\\t{max_dist[0]}-{max_dist[1]}')"
   ]
  },
  {
   "cell_type": "markdown",
   "id": "c36595ee-7f30-4cd4-aee3-464f3204f867",
   "metadata": {},
   "source": [
    "3. Найти путь велосипеда с максимальным временем пробега через станции"
   ]
  },
  {
   "cell_type": "code",
   "execution_count": 17,
   "id": "8a784ae0-859b-4f94-959b-85d0d52d7afa",
   "metadata": {},
   "outputs": [],
   "source": [
    "points_of_way = tripsInternal.filter(lambda trip: trip.bike_id == top_bicycle[0]).sortBy(lambda trip: trip.start_date)"
   ]
  },
  {
   "cell_type": "code",
   "execution_count": 18,
   "id": "b4e41c31-c8dc-49b2-86d7-22eab1419c67",
   "metadata": {},
   "outputs": [
    {
     "name": "stdout",
     "output_type": "stream",
     "text": [
      "Dates:\t2013-08-29 19:32:00 ~ 2013-08-29 19:53:00\tWay:\t47-70\n",
      "Dates:\t2013-08-29 21:38:00 ~ 2013-08-29 21:45:00\tWay:\t70-69\n",
      "Dates:\t2013-08-30 08:40:00 ~ 2013-08-30 08:54:00\tWay:\t69-77\n",
      "Dates:\t2013-08-30 09:10:00 ~ 2013-08-30 09:19:00\tWay:\t77-64\n",
      "Dates:\t2013-09-01 12:58:00 ~ 2013-09-01 13:26:00\tWay:\t61-42\n"
     ]
    }
   ],
   "source": [
    "for trip in points_of_way.take(5):\n",
    "    print(f'Dates:\\t{trip.start_date} ~ {trip.end_date}\\tWay:\\t{trip.start_station_id}-{trip.end_station_id}')"
   ]
  },
  {
   "cell_type": "markdown",
   "id": "fcb03478-40f7-472d-9e11-0aaee2929bbf",
   "metadata": {},
   "source": [
    "4. Найти количество велосипедов в системе"
   ]
  },
  {
   "cell_type": "code",
   "execution_count": 19,
   "id": "9fdd19fa-04ea-4987-9f06-2efd107e5536",
   "metadata": {},
   "outputs": [],
   "source": [
    "bikes_count = tripsInternal.map(lambda trip: trip.bike_id).distinct().count()"
   ]
  },
  {
   "cell_type": "code",
   "execution_count": 20,
   "id": "9bafc3c6-e679-4d92-b610-a74de911dfb7",
   "metadata": {},
   "outputs": [
    {
     "name": "stdout",
     "output_type": "stream",
     "text": [
      "Bikes count:\t 700\n"
     ]
    }
   ],
   "source": [
    "print(f'Bikes count:\\t {bikes_count}')"
   ]
  },
  {
   "cell_type": "markdown",
   "id": "73173392-74a1-4cd4-a518-5d5fc8386eae",
   "metadata": {},
   "source": [
    "5. Найти пользователей потративших на поездки более 3 часов"
   ]
  },
  {
   "cell_type": "code",
   "execution_count": 21,
   "id": "9e6e267e-b07b-47ae-9801-46f5b2064049",
   "metadata": {},
   "outputs": [],
   "source": [
    "all_users = tripsInternal.map(lambda trip: (trip.zip_code, trip.duration)).reduceByKey(lambda a, b: a + b).filter(lambda trip: trip[1] > 10800)"
   ]
  },
  {
   "cell_type": "code",
   "execution_count": 22,
   "id": "8c073a61-4446-4e97-b231-2f3792c77db0",
   "metadata": {},
   "outputs": [
    {
     "name": "stdout",
     "output_type": "stream",
     "text": [
      "User:\t94102\tTime:\t5313.3h\n",
      "User:\t95113\tTime:\t828.2h\n",
      "User:\t94124\tTime:\t500.1h\n",
      "User:\t94111\tTime:\t3956.9h\n",
      "User:\t94114\tTime:\t1190.5h\n",
      "User:\t94403\tTime:\t1301.8h\n",
      "User:\t30324\tTime:\t18.5h\n",
      "User:\t94133\tTime:\t6010.5h\n",
      "User:\t94108\tTime:\t1424.3h\n",
      "User:\t94306\tTime:\t1541.8h\n"
     ]
    }
   ],
   "source": [
    "for trip in all_users.take(10):\n",
    "    print(f'User:\\t{trip[0]}\\tTime:\\t{round(trip[1]/3600, 1)}h')"
   ]
  },
  {
   "cell_type": "code",
   "execution_count": null,
   "id": "7a5b0421-42bc-4e50-a9eb-ed790b015e0d",
   "metadata": {},
   "outputs": [],
   "source": []
  },
  {
   "cell_type": "code",
   "execution_count": null,
   "id": "3d03614b-5c4c-4e1e-b98a-ea13ca366243",
   "metadata": {},
   "outputs": [],
   "source": []
  }
 ],
 "metadata": {
  "kernelspec": {
   "display_name": "Python 3",
   "language": "python",
   "name": "python3"
  },
  "language_info": {
   "codemirror_mode": {
    "name": "ipython",
    "version": 3
   },
   "file_extension": ".py",
   "mimetype": "text/x-python",
   "name": "python",
   "nbconvert_exporter": "python",
   "pygments_lexer": "ipython3",
   "version": "3.9.5"
  },
  "toc-autonumbering": true,
  "toc-showcode": true,
  "toc-showmarkdowntxt": true
 },
 "nbformat": 4,
 "nbformat_minor": 5
}
